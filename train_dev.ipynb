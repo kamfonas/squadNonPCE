{
 "cells": [
  {
   "cell_type": "code",
   "execution_count": 1,
   "metadata": {},
   "outputs": [],
   "source": [
    "import numpy as np\n",
    "import random\n",
    "import torch\n",
    "import torch.nn as nn\n",
    "import torch.nn.functional as F\n",
    "import torch.optim as optim\n",
    "import torch.optim.lr_scheduler as sched\n",
    "import torch.utils.data as data\n",
    "import util\n",
    "\n",
    "from args import get_train_args\n",
    "from collections import OrderedDict\n",
    "from json import dumps\n",
    "from models import BiDAF\n",
    "#from tensorboardX import SummaryWriter\n",
    "from torch.utils.tensorboard import SummaryWriter\n",
    "from tqdm import tqdm\n",
    "from ujson import load as json_load\n",
    "from util import collate_fn, SQuAD\n",
    "\n"
   ]
  },
  {
   "cell_type": "code",
   "execution_count": 23,
   "metadata": {
    "scrolled": true
   },
   "outputs": [
    {
     "name": "stdout",
     "output_type": "stream",
     "text": [
      "Namespace(batch_size=16, char_emb_file='./data/char_emb.json', char_embeddings=False, char_kernel_size=100, char_out_channels=5, dev_eval_file='./data/dev_eval.json', dev_record_file='./data/dev.npz', drop_prob=0.2, ema_decay=0.999, eval_steps=5000, hidden_size=100, l2_wd=0, load_path=None, lr=0.5, max_ans_len=15, max_checkpoints=5, max_grad_norm=5.0, maximize_metric=True, metric_name='F1', name='devNonPCE', num_epochs=3, num_visuals=10, num_workers=4, rnn_type='LSTM', save_dir='./save/', seed=224, test_eval_file='./data/test_eval.json', test_record_file='./data/test.npz', train_eval_file='./data/train_eval.json', train_record_file='./data/train.npz', use_squad_v2=True, word_emb_file='./data/word_emb.json')\n"
     ]
    }
   ],
   "source": [
    "from argparse import Namespace\n",
    "argDict = {'train_record_file': './data/train.npz', \n",
    "        'dev_record_file': './data/dev.npz', \n",
    "        'test_record_file': './data/test.npz', \n",
    "        'word_emb_file': './data/word_emb.json', \n",
    "        'char_emb_file': './data/char_emb.json', \n",
    "        'train_eval_file': './data/train_eval.json', \n",
    "        'dev_eval_file': './data/dev_eval.json', \n",
    "        'test_eval_file': './data/test_eval.json', \n",
    "        'name': 'devNonPCE', \n",
    "        'max_ans_len': 15, \n",
    "        'num_workers': 4, \n",
    "        'save_dir': './save/', \n",
    "        'batch_size': 16, \n",
    "        'use_squad_v2': True, \n",
    "        'hidden_size': 100, \n",
    "        'num_visuals': 10, \n",
    "        'load_path': None, \n",
    "        'rnn_type': 'LSTM', \n",
    "        'char_embeddings': False, \n",
    "        'eval_steps': 5000, \n",
    "        'lr': 0.5, 'l2_wd': 0, \n",
    "        'num_epochs': 3, \n",
    "        'drop_prob': 0.2, \n",
    "        'metric_name': 'F1', \n",
    "        'max_checkpoints': 5, \n",
    "        'max_grad_norm': 5.0, \n",
    "        'seed': 224, \n",
    "        'ema_decay': 0.999, \n",
    "        'char_out_channels': 5, \n",
    "        'char_kernel_size': 100, \n",
    "        'maximize_metric': True,\n",
    "        'gpu_ids': [0]}\n",
    "args = Namespace(**argDict)\n",
    "print(args)"
   ]
  },
  {
   "cell_type": "code",
   "execution_count": null,
   "metadata": {},
   "outputs": [],
   "source": []
  }
 ],
 "metadata": {
  "kernelspec": {
   "display_name": "Python 3",
   "language": "python",
   "name": "python3"
  },
  "language_info": {
   "codemirror_mode": {
    "name": "ipython",
    "version": 3
   },
   "file_extension": ".py",
   "mimetype": "text/x-python",
   "name": "python",
   "nbconvert_exporter": "python",
   "pygments_lexer": "ipython3",
   "version": "3.8.5"
  }
 },
 "nbformat": 4,
 "nbformat_minor": 4
}
